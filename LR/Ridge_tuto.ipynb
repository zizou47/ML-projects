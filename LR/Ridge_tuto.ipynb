{
 "cells": [
  {
   "cell_type": "markdown",
   "id": "356cf146",
   "metadata": {},
   "source": [
    "## Import Libraries"
   ]
  },
  {
   "cell_type": "code",
   "execution_count": 58,
   "id": "d8651efc",
   "metadata": {},
   "outputs": [],
   "source": [
    "import numpy as np\n",
    "import pandas as pd\n",
    "from sklearn.model_selection import train_test_split\n",
    "from sklearn.preprocessing import MinMaxScaler, OneHotEncoder\n",
    "from sklearn.compose import make_column_transformer\n",
    "import matplotlib.pyplot as plt"
   ]
  },
  {
   "cell_type": "code",
   "execution_count": 59,
   "id": "9326c521",
   "metadata": {},
   "outputs": [],
   "source": [
    "data = pd.read_csv('./Data/data.csv', sep=',')\n",
    "y = data['churn']  # Binary target (0/1)\n",
    "X = data.drop(['churn', 'customer_id'], axis=1) "
   ]
  },
  {
   "cell_type": "code",
   "execution_count": 60,
   "id": "533eb98e",
   "metadata": {},
   "outputs": [
    {
     "name": "stdout",
     "output_type": "stream",
     "text": [
      "Numerical features: ['credit_score', 'age', 'tenure', 'balance', 'products_number', 'credit_card', 'active_member', 'estimated_salary']\n",
      "Categorical features: ['country', 'gender']\n"
     ]
    }
   ],
   "source": [
    "# Identify numerical and categorical columns\n",
    "num_columns = X.select_dtypes(include='number').columns.tolist()\n",
    "cat_columns = X.select_dtypes(include='object').columns.tolist()\n",
    "print(\"Numerical features:\", num_columns)\n",
    "print(\"Categorical features:\", cat_columns)\n",
    "\n"
   ]
  },
  {
   "cell_type": "code",
   "execution_count": 61,
   "id": "70822abd",
   "metadata": {},
   "outputs": [],
   "source": [
    "X_train, X_test, y_train, y_test = train_test_split(X, y, test_size=0.2, random_state=42)\n"
   ]
  },
  {
   "cell_type": "code",
   "execution_count": 62,
   "id": "106d639c",
   "metadata": {},
   "outputs": [
    {
     "name": "stdout",
     "output_type": "stream",
     "text": [
      "X_train shape: (8000, 10)\n",
      "X_test shape: (2000, 10)\n"
     ]
    }
   ],
   "source": [
    "print(\"X_train shape:\", X_train.shape)\n",
    "print(\"X_test shape:\", X_test.shape)"
   ]
  },
  {
   "cell_type": "code",
   "execution_count": 63,
   "id": "3447bae7",
   "metadata": {},
   "outputs": [],
   "source": [
    "preprocess = make_column_transformer(\n",
    "    (MinMaxScaler(), num_columns),\n",
    "    (OneHotEncoder(sparse_output=False, handle_unknown='ignore'), cat_columns)\n",
    ")\n",
    "X_train = preprocess.fit_transform(X_train)  # Shape: (n_train, m_features)\n",
    "X_test = preprocess.transform(X_test)"
   ]
  },
  {
   "cell_type": "code",
   "execution_count": 64,
   "id": "b5bc128c",
   "metadata": {},
   "outputs": [],
   "source": [
    "X_train = np.c_[np.ones(X_train.shape[0]), X_train]  # Shape: (n_train, m_features+1)\n",
    "X_test = np.c_[np.ones(X_test.shape[0]), X_test]"
   ]
  },
  {
   "cell_type": "code",
   "execution_count": 65,
   "id": "dfc1c479",
   "metadata": {},
   "outputs": [
    {
     "name": "stdout",
     "output_type": "stream",
     "text": [
      "X_train shape after preprocessing: (8000, 14)\n",
      "X_test shape after preprocessing: (2000, 14)\n"
     ]
    }
   ],
   "source": [
    "print(\"X_train shape after preprocessing:\", X_train.shape)\n",
    "print(\"X_test shape after preprocessing:\", X_test.shape)"
   ]
  },
  {
   "cell_type": "markdown",
   "id": "aa00d0a3",
   "metadata": {},
   "source": [
    "## Define Function"
   ]
  },
  {
   "cell_type": "code",
   "execution_count": 66,
   "id": "c27470fa",
   "metadata": {},
   "outputs": [],
   "source": [
    "def compute_hypothesis(X, params):\n",
    "    z = np.dot(X, params)\n",
    "    z = np.clip(z, -500, 500) # avoid ovrflow\n",
    "    return 1/ (1 + np.exp(-z))"
   ]
  },
  {
   "cell_type": "markdown",
   "id": "656a8206",
   "metadata": {},
   "source": [
    "## Predict classes"
   ]
  },
  {
   "cell_type": "code",
   "execution_count": 67,
   "id": "b528d13d",
   "metadata": {},
   "outputs": [],
   "source": [
    "def predict_classes(predictions):\n",
    "    return (predictions >= 0.5).astype(int)"
   ]
  },
  {
   "cell_type": "markdown",
   "id": "17345d1f",
   "metadata": {},
   "source": [
    "## Accuracy"
   ]
  },
  {
   "cell_type": "code",
   "execution_count": 68,
   "id": "205a137f",
   "metadata": {},
   "outputs": [],
   "source": [
    "def calculate_accuracy(predictions, actual):\n",
    "    return np.mean(predictions == actual) * 100"
   ]
  },
  {
   "cell_type": "markdown",
   "id": "6960bb7e",
   "metadata": {},
   "source": [
    " ## Cost Funtion & Ridge"
   ]
  },
  {
   "cell_type": "code",
   "execution_count": 69,
   "id": "839d2cd3",
   "metadata": {},
   "outputs": [],
   "source": [
    "def compute_cost(X,y, params, lambda_reg = 0):\n",
    "    m = len(y)\n",
    "    predictions = compute_hypothesis(X, params)\n",
    "    log_loss = -np.mean(y * np.log(predictions +1e-15) + (1 -y) * (np.log(1 - predictions +1e-15)))\n",
    "    reg_term = lambda_reg * np.sum(params[1:]**2)#l2\n",
    "    return log_loss + reg_term"
   ]
  },
  {
   "cell_type": "markdown",
   "id": "77ff1450",
   "metadata": {},
   "source": [
    "## Gradient Descend"
   ]
  },
  {
   "cell_type": "code",
   "execution_count": 70,
   "id": "075d1627",
   "metadata": {},
   "outputs": [],
   "source": [
    "def gradient_descent(X, y, learning_rate=0.05, iterations=5000, lambda_reg=0):\n",
    "    m, n = X.shape\n",
    "    params = np.zeros(n)  # Initialize parameters\n",
    "    costs = []\n",
    "    train_accuracies = []\n",
    "    for i in range(iterations):\n",
    "        predictions = compute_hypothesis(X, params)\n",
    "        train_accuracies.append(calculate_accuracy(predict_classes(predictions), y))\n",
    "        costs.append(compute_cost(X, y, params, lambda_reg))\n",
    "        errors = predictions - y\n",
    "        gradient = np.dot(X.T, errors) / m\n",
    "        reg_gradient = np.concatenate(([0], 2 * lambda_reg * params[1:]))  # L2 gradient\n",
    "        params -= learning_rate * (gradient + reg_gradient / m)\n",
    "    return params, costs, train_accuracies\n"
   ]
  },
  {
   "cell_type": "markdown",
   "id": "14fd92ef",
   "metadata": {},
   "source": [
    "## Train Model"
   ]
  },
  {
   "cell_type": "code",
   "execution_count": 71,
   "id": "e9752dcd",
   "metadata": {},
   "outputs": [],
   "source": [
    "params_baseline, costs_baseline, acc_baseline = gradient_descent(X_train, y_train, lambda_reg=0)"
   ]
  },
  {
   "cell_type": "code",
   "execution_count": 72,
   "id": "f2972c12",
   "metadata": {},
   "outputs": [],
   "source": [
    "test_pred_baseline = compute_hypothesis(X_test, params_baseline)\n",
    "test_acc_baseline = calculate_accuracy(predict_classes(test_pred_baseline), y_test)"
   ]
  },
  {
   "cell_type": "code",
   "execution_count": 73,
   "id": "3e5e7a3b",
   "metadata": {},
   "outputs": [
    {
     "name": "stdout",
     "output_type": "stream",
     "text": [
      "Training Accuracy: 80.77%\n",
      "Test Accuracy: 81.80%\n",
      "Cost: 0.4416\n",
      "Status: Good fit\n"
     ]
    }
   ],
   "source": [
    "print(f\"Training Accuracy: {acc_baseline[-1]:.2f}%\")\n",
    "print(f\"Test Accuracy: {test_acc_baseline:.2f}%\")\n",
    "print(f\"Cost: {costs_baseline[-1]:.4f}\")\n",
    "print(f\"Status: {'Overfitting' if acc_baseline[-1] > test_acc_baseline + 5 else 'Underfitting' if acc_baseline[-1] < 80 else 'Good fit'}\")"
   ]
  },
  {
   "cell_type": "code",
   "execution_count": null,
   "id": "7bad8796",
   "metadata": {},
   "outputs": [
    {
     "name": "stdout",
     "output_type": "stream",
     "text": [
      "\n",
      "Ridge Model (lambda_reg=0.0001):\n",
      "Training Accuracy: 80.77%\n",
      "Test Accuracy: 81.80%\n",
      "Cost: 1.4103\n",
      "Status: Good fit\n"
     ]
    }
   ],
   "source": [
    "# Step 8: Train and optimize Ridge model\n",
    "print(\"\\nRidge Model (lambda_reg=0.0001):\")\n",
    "params_ridge, costs_ridge, acc_ridge = gradient_descent(X_train, y_train, lambda_reg=0.0001)\n",
    "\n",
    "# Step 9: Test Ridge and check overfitting\n",
    "test_pred_ridge = compute_hypothesis(X_test, params_ridge)\n",
    "test_acc_ridge = calculate_accuracy(predict_classes(test_pred_ridge), y_test)\n",
    "\n",
    "print(f\"Training Accuracy: {acc_ridge[-1]:.2f}%\")\n",
    "print(f\"Test Accuracy: {test_acc_ridge:.2f}%\")\n",
    "print(f\"Cost: {costs_ridge[-1]:.4f}\")\n",
    "print(f\"Status: {'Overfitting' if acc_ridge[-1] > test_acc_ridge + 5 else 'Underfitting' if acc_ridge[-1] < 80 else 'Good fit'}\")\n"
   ]
  },
  {
   "cell_type": "code",
   "execution_count": 75,
   "id": "e56a9fe4",
   "metadata": {},
   "outputs": [
    {
     "data": {
      "image/png": "[encoded data removed]",
      "text/plain": [
       "<Figure size 1000x400 with 1 Axes>"
      ]
     },
     "metadata": {},
     "output_type": "display_data"
    }
   ],
   "source": [
    "# Step 10: Plot results\n",
    "plt.figure(figsize=(10, 4))\n",
    "plt.subplot(1, 2, 1)\n",
    "plt.plot(costs_baseline, label='Baseline Cost')\n",
    "plt.plot(costs_ridge, label='Ridge Cost')\n",
    "plt.xlabel('Iteration')\n",
    "plt.ylabel('Cost')\n",
    "plt.title('Cost vs. Iteration')\n",
    "plt.legend()\n",
    "plt.grid(True)\n",
    "\n"
   ]
  },
  {
   "cell_type": "code",
   "execution_count": 76,
   "id": "780274ab",
   "metadata": {},
   "outputs": [
    {
     "data": {
      "image/png": "[encoded data removed]",
      "text/plain": [
       "<Figure size 640x480 with 1 Axes>"
      ]
     },
     "metadata": {},
     "output_type": "display_data"
    }
   ],
   "source": [
    "plt.subplot(1, 2, 2)\n",
    "plt.plot(acc_baseline, label='Baseline Train Acc')\n",
    "plt.plot([0, len(acc_ridge)-1], [test_acc_baseline, test_acc_baseline], 'b--', label='Baseline Test Acc')\n",
    "plt.plot(acc_ridge, label='Ridge Train Acc')\n",
    "plt.plot([0, len(acc_ridge)-1], [test_acc_ridge, test_acc_ridge], 'r--', label='Ridge Test Acc')\n",
    "plt.xlabel('Iteration')\n",
    "plt.ylabel('Accuracy (%)')\n",
    "plt.title('Accuracy vs. Iteration')\n",
    "plt.legend()\n",
    "plt.grid(True)\n",
    "\n",
    "\n"
   ]
  },
  {
   "cell_type": "code",
   "execution_count": 84,
   "id": "814d2d9f",
   "metadata": {},
   "outputs": [
    {
     "name": "stdout",
     "output_type": "stream",
     "text": [
      "Class distribution:\n",
      " churn\n",
      "0    0.7963\n",
      "1    0.2037\n",
      "Name: proportion, dtype: float64\n",
      "Numerical features: ['credit_score', 'age', 'tenure', 'balance', 'products_number', 'credit_card', 'active_member', 'estimated_salary']\n",
      "Categorical features: ['country', 'gender']\n",
      "X_train shape after preprocessing: (8000, 14)\n",
      "X_test shape after preprocessing: (2000, 14)\n",
      "\n",
      "Baseline Model (No Regularization):\n",
      "Converged after 412 iterations\n",
      "Training Accuracy: 80.96%\n",
      "Test Accuracy: 81.05%\n",
      "Cost: 0.6980\n",
      "Status: Good fit\n",
      "Confusion Matrix (Baseline):\n",
      " [[1556   51]\n",
      " [ 328   65]]\n",
      "Precision (Baseline): 0.5603\n",
      "Recall (Baseline): 0.1654\n",
      "\n",
      "Ridge Model (lambda_reg=1e-06):\n",
      "Converged after 412 iterations\n",
      "Training Accuracy: 80.96%\n",
      "Test Accuracy: 81.05%\n",
      "Cost: 0.6980\n",
      "Status: Good fit\n",
      "Confusion Matrix (Ridge):\n",
      " [[1556   51]\n",
      " [ 328   65]]\n",
      "Precision (Ridge): 0.5603\n",
      "Recall (Ridge): 0.1654\n",
      "\n",
      "Ridge Model (lambda_reg=0.0001):\n",
      "Converged after 408 iterations\n",
      "Training Accuracy: 80.96%\n",
      "Test Accuracy: 81.05%\n",
      "Cost: 0.6981\n",
      "Status: Good fit\n",
      "Confusion Matrix (Ridge):\n",
      " [[1556   51]\n",
      " [ 328   65]]\n",
      "Precision (Ridge): 0.5603\n",
      "Recall (Ridge): 0.1654\n"
     ]
    }
   ],
   "source": [
    "import numpy as np\n",
    "import pandas as pd\n",
    "from sklearn.model_selection import train_test_split\n",
    "from sklearn.preprocessing import StandardScaler, OneHotEncoder\n",
    "from sklearn.compose import make_column_transformer\n",
    "from sklearn.metrics import confusion_matrix, precision_score, recall_score\n",
    "import matplotlib.pyplot as plt\n",
    "\n",
    "# Step 1: Load data\n",
    "data = pd.read_csv('./Data/data.csv', sep=',')\n",
    "y = data['churn']  # Binary target (0/1)\n",
    "X = data.drop(['churn'], axis=1)  # Features\n",
    "\n",
    "# Check class imbalance\n",
    "print(\"Class distribution:\\n\", y.value_counts(normalize=True))\n",
    "\n",
    "# Identify numerical and categorical columns\n",
    "num_columns = ['credit_score', 'age', 'tenure', 'balance', 'products_number', 'credit_card', 'active_member', 'estimated_salary']\n",
    "cat_columns = ['country', 'gender']\n",
    "print(\"Numerical features:\", num_columns)\n",
    "print(\"Categorical features:\", cat_columns)\n",
    "\n",
    "# Step 2: Split data (80% train, 20% test)\n",
    "X_train, X_test, y_train, y_test = train_test_split(X, y, test_size=0.2, random_state=42)\n",
    "\n",
    "# Step 3: Preprocess - Scale numerical, encode categorical\n",
    "preprocess = make_column_transformer(\n",
    "    (StandardScaler(), num_columns),\n",
    "    (OneHotEncoder(sparse_output=False, handle_unknown='ignore'), cat_columns)\n",
    ")\n",
    "X_train = preprocess.fit_transform(X_train)  # Shape: (8000, 13)\n",
    "X_test = preprocess.transform(X_test)       # Shape: (2000, 13)\n",
    "\n",
    "# Add intercept column\n",
    "X_train = np.c_[np.ones(X_train.shape[0]), X_train]  # Shape: (8000, 14)\n",
    "X_test = np.c_[np.ones(X_test.shape[0]), X_test]    # Shape: (2000, 14)\n",
    "\n",
    "print(\"X_train shape after preprocessing:\", X_train.shape)\n",
    "print(\"X_test shape after preprocessing:\", X_test.shape)\n",
    "\n",
    "# Step 4: Define model functions\n",
    "def compute_hypothesis(X, params):\n",
    "    z = np.dot(X, params)\n",
    "    z = np.clip(z, -500, 500)  # Avoid overflow\n",
    "    return 1 / (1 + np.exp(-z))\n",
    "\n",
    "def predict_classes(predictions):\n",
    "    return (predictions >= 0.5).astype(int)\n",
    "\n",
    "def calculate_accuracy(predictions, actual):\n",
    "    return np.mean(predictions == actual) * 100  # Your accuracy function\n",
    "\n",
    "def compute_cost(X, y, params, lambda_reg=0, weight=2):\n",
    "    m = len(y)\n",
    "    predictions = compute_hypothesis(X, params)\n",
    "    log_loss = -np.mean(y * np.log(predictions + 1e-15) * weight + (1 - y) * np.log(1 - predictions + 1e-15))\n",
    "    reg_term = lambda_reg * np.sum(params[1:]**2)  # L2 penalty, exclude intercept\n",
    "    return log_loss + reg_term\n",
    "\n",
    "# Step 5: Optimize model with gradient descent\n",
    "def gradient_descent(X, y, learning_rate=0.05, iterations=10000, lambda_reg=0):\n",
    "    m, n = X.shape\n",
    "    params = np.zeros(n)\n",
    "    costs = []\n",
    "    train_accuracies = []\n",
    "    for i in range(iterations):\n",
    "        predictions = compute_hypothesis(X, params)\n",
    "        train_accuracies.append(calculate_accuracy(predict_classes(predictions), y))\n",
    "        cost = compute_cost(X, y, params, lambda_reg)\n",
    "        costs.append(cost)\n",
    "        errors = predictions - y\n",
    "        gradient = np.dot(X.T, errors) / m\n",
    "        reg_gradient = np.concatenate(([0], 2 * lambda_reg * params[1:]))  # L2 gradient\n",
    "        params -= learning_rate * (gradient + reg_gradient / m)\n",
    "        # Early stopping\n",
    "        if i > 100 and abs(costs[-1] - costs[-2]) < 1e-6:\n",
    "            print(f\"Converged after {i+1} iterations\")\n",
    "            break\n",
    "    return params, costs, train_accuracies\n",
    "\n",
    "# Step 6: Train and optimize baseline model (no regularization)\n",
    "print(\"\\nBaseline Model (No Regularization):\")\n",
    "params_baseline, costs_baseline, acc_baseline = gradient_descent(X_train, y_train)\n",
    "\n",
    "# Step 7: Test baseline and check overfitting\n",
    "test_pred_baseline = compute_hypothesis(X_test, params_baseline)\n",
    "test_classes_baseline = predict_classes(test_pred_baseline)\n",
    "test_acc_baseline = calculate_accuracy(test_classes_baseline, y_test)\n",
    "cm_baseline = confusion_matrix(y_test, test_classes_baseline)\n",
    "precision_baseline = precision_score(y_test, test_classes_baseline, zero_division=0)\n",
    "recall_baseline = recall_score(y_test, test_classes_baseline, zero_division=0)\n",
    "\n",
    "print(f\"Training Accuracy: {acc_baseline[-1]:.2f}%\")\n",
    "print(f\"Test Accuracy: {test_acc_baseline:.2f}%\")\n",
    "print(f\"Cost: {costs_baseline[-1]:.4f}\")\n",
    "print(f\"Status: {'Overfitting' if acc_baseline[-1] > test_acc_baseline + 5 else 'Underfitting' if acc_baseline[-1] < 80 else 'Good fit'}\")\n",
    "print(\"Confusion Matrix (Baseline):\\n\", cm_baseline)\n",
    "print(f\"Precision (Baseline): {precision_baseline:.4f}\")\n",
    "print(f\"Recall (Baseline): {recall_baseline:.4f}\")\n",
    "\n",
    "# Step 8: Train and optimize Ridge models\n",
    "lambda_values = [1e-06, 0.0001]\n",
    "ridge_results = []\n",
    "\n",
    "for lambda_reg in lambda_values:\n",
    "    print(f\"\\nRidge Model (lambda_reg={lambda_reg}):\")\n",
    "    params_ridge, costs_ridge, acc_ridge = gradient_descent(X_train, y_train, lambda_reg=lambda_reg)\n",
    "    test_pred_ridge = compute_hypothesis(X_test, params_ridge)\n",
    "    test_classes_ridge = predict_classes(test_pred_ridge)\n",
    "    test_acc_ridge = calculate_accuracy(test_classes_ridge, y_test)\n",
    "    cm_ridge = confusion_matrix(y_test, test_classes_ridge)\n",
    "    precision_ridge = precision_score(y_test, test_classes_ridge, zero_division=0)\n",
    "    recall_ridge = recall_score(y_test, test_classes_ridge, zero_division=0)\n",
    "    \n",
    "    print(f\"Training Accuracy: {acc_ridge[-1]:.2f}%\")\n",
    "    print(f\"Test Accuracy: {test_acc_ridge:.2f}%\")\n",
    "    print(f\"Cost: {costs_ridge[-1]:.4f}\")\n",
    "    print(f\"Status: {'Overfitting' if acc_ridge[-1] > test_acc_ridge + 5 else 'Underfitting' if acc_ridge[-1] < 80 else 'Good fit'}\")\n",
    "    print(\"Confusion Matrix (Ridge):\\n\", cm_ridge)\n",
    "    print(f\"Precision (Ridge): {precision_ridge:.4f}\")\n",
    "    print(f\"Recall (Ridge): {recall_ridge:.4f}\")\n",
    "    \n",
    "    ridge_results.append({\n",
    "        'lambda_reg': lambda_reg,\n",
    "        'params': params_ridge,\n",
    "        'costs': costs_ridge,\n",
    "        'train_acc': acc_ridge,\n",
    "        'test_acc': test_acc_ridge\n",
    "    })\n",
    "\n",
    "# Step 9: Plot results\n",
    "plt.figure(figsize=(10, 4))\n",
    "plt.subplot(1, 2, 1)\n",
    "plt.plot(costs_baseline, label='Baseline Cost')\n",
    "for result in ridge_results:\n",
    "    plt.plot(result['costs'], label=f'Ridge Cost (λ={result[\"lambda_reg\"]})')\n",
    "plt.xlabel('Iteration')\n",
    "plt.ylabel('Cost')\n",
    "plt.title('Cost vs. Iteration')\n",
    "plt.legend()\n",
    "plt.grid(True)\n",
    "\n",
    "plt.subplot(1, 2, 2)\n",
    "plt.plot(acc_baseline, label='Baseline Train Acc')\n",
    "plt.plot([0, len(acc_baseline)-1], [test_acc_baseline, test_acc_baseline], 'b--', label='Baseline Test Acc')\n",
    "for result in ridge_results:\n",
    "    plt.plot(result['train_acc'], label=f'Ridge Train Acc (λ={result[\"lambda_reg\"]})')\n",
    "    plt.plot([0, len(result['train_acc'])-1], [result['test_acc'], result['test_acc']], '--', label=f'Ridge Test Acc (λ={result[\"lambda_reg\"]})')\n",
    "plt.xlabel('Iteration')\n",
    "plt.ylabel('Accuracy (%)')\n",
    "plt.title('Accuracy vs. Iteration')\n",
    "plt.legend()\n",
    "plt.grid(True)\n",
    "\n",
    "plt.tight_layout()\n",
    "plt.savefig('model_comparison.png')\n",
    "plt.close()"
   ]
  }
 ],
 "metadata": {
  "kernelspec": {
   "display_name": "base",
   "language": "python",
   "name": "python3"
  },
  "language_info": {
   "codemirror_mode": {
    "name": "ipython",
    "version": 3
   },
   "file_extension": ".py",
   "mimetype": "text/x-python",
   "name": "python",
   "nbconvert_exporter": "python",
   "pygments_lexer": "ipython3",
   "version": "3.12.3"
  }
 },
 "nbformat": 4,
 "nbformat_minor": 5
}
